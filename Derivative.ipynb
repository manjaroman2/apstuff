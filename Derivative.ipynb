{
 "cells": [
  {
   "cell_type": "code",
   "execution_count": null,
   "id": "7bae716d",
   "metadata": {},
   "outputs": [],
   "source": [
    "!pip install sympy"
   ]
  },
  {
   "cell_type": "code",
   "execution_count": null,
   "id": "ce4ac6a9",
   "metadata": {},
   "outputs": [],
   "source": [
    "from sympy import *\n",
    "from IPython.display import display\n",
    "init_printing()\n",
    "import numpy as np\n",
    "from sympy.parsing.sympy_parser import parse_expr\n",
    "\n",
    "def eingeschissen():\n",
    "    wraplatex = \"$$\"\n",
    "\n",
    "    f = input(\"Function name: \")\n",
    "    eq = parse_expr(input(\"Function: \"), evaluate=False)\n",
    "    display(Eq(Symbol(f), eq))\n",
    "    deltaf = 0\n",
    "    for sym in eq.free_symbols:\n",
    "        deltaf += abs(eq.diff(sym)) * Symbol(f'\\Delta {sym}')\n",
    "\n",
    "    values = {}\n",
    "    for sym in eq.free_symbols:\n",
    "        values[str(sym)] = float(input(f\"{sym}: \"))\n",
    "        values[f\"\\\\Delta {sym}\"] = float(input(f\"Δ{sym}: \"))\n",
    "\n",
    "    deltaresult = lambdify(list(deltaf.free_symbols), deltaf, 'numpy')(*[values[str(x)] for x in deltaf.free_symbols])\n",
    "\n",
    "    result = lambdify(list(eq.free_symbols), eq, 'numpy')(*[values[str(x)] for x in eq.free_symbols])\n",
    "    rel = deltaresult/result*100\n",
    "    display(Eq(Symbol(f'\\Delta {f}'), deltaf))\n",
    "    print(wraplatex+latex(Eq(Symbol(f'\\Delta {f}'), deltaf))+wraplatex)\n",
    "    print()\n",
    "\n",
    "    display(Eq(Symbol(f), eq))\n",
    "    print(wraplatex+latex(Eq(Symbol(f), eq))+wraplatex)\n",
    "    print()\n",
    "\n",
    "    display(Eq(Symbol(f'\\Delta {f}'), deltaresult))\n",
    "    print(wraplatex+latex(Eq(Symbol(f'\\Delta {f}'), deltaresult)).replace(\".\", \",\")+wraplatex)\n",
    "    print()\n",
    "\n",
    "    display(Eq(Symbol(f), Symbol(f'({result} \\pm {deltaresult})')))\n",
    "    print(wraplatex+latex(Eq(Symbol(f), Symbol(f'({result} \\pm {deltaresult})'))).replace(\".\", \",\")+wraplatex)\n",
    "    print()\n",
    "\n",
    "    display(Eq(Symbol(f'\\Delta {f}')/Symbol(f), Symbol(f'{rel}\\%')))\n",
    "    print(wraplatex+latex(Eq(Symbol(f'\\Delta {f}')/Symbol(f), Symbol(f'{rel}\\%'))).replace(\".\", \",\")+wraplatex)\n",
    "    print()"
   ]
  },
  {
   "cell_type": "code",
   "execution_count": null,
   "id": "bf96060d",
   "metadata": {},
   "outputs": [],
   "source": [
    "eingeschissen()\n",
    "# m_w*(T_w-T_k)/(T_m-T_k)-m_k"
   ]
  }
 ],
 "metadata": {
  "kernelspec": {
   "display_name": "Python 3 (ipykernel)",
   "language": "python",
   "name": "python3"
  },
  "language_info": {
   "codemirror_mode": {
    "name": "ipython",
    "version": 3
   },
   "file_extension": ".py",
   "mimetype": "text/x-python",
   "name": "python",
   "nbconvert_exporter": "python",
   "pygments_lexer": "ipython3",
   "version": "3.10.8"
  }
 },
 "nbformat": 4,
 "nbformat_minor": 5
}
