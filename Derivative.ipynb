{
 "cells": [
  {
   "cell_type": "code",
   "execution_count": null,
   "id": "8de4d0d0",
   "metadata": {},
   "outputs": [],
   "source": [
    "!pip install sympy"
   ]
  },
  {
   "cell_type": "markdown",
   "id": "51d21f31",
   "metadata": {},
   "source": [
    "## Fehlerrechnung\n",
    "* automatische Ableitung der Funktion\n",
    "* Einsetzen der Werte\n",
    "* gibt Latex aus\n",
    "\n",
    "Latex muss installiert sein "
   ]
  },
  {
   "cell_type": "code",
   "execution_count": null,
   "id": "6f88a8d8",
   "metadata": {},
   "outputs": [],
   "source": [
    "from sympy import *\n",
    "from IPython.display import display\n",
    "init_printing()\n",
    "import numpy as np\n",
    "from sympy.parsing.sympy_parser import parse_expr\n",
    "\n",
    "class Parser:\n",
    "    def __init__(self):\n",
    "        self.f = None\n",
    "        self.values = {}\n",
    "        self.unit = None\n",
    "\n",
    "    def eingeschissen(self):\n",
    "        wraplatex = \"$$\"\n",
    "\n",
    "        change = input(\"1. Change function [f]\\n2. Change variables [v]\\n(default=v)\") or \"v\"\n",
    "        if change == 'v':\n",
    "            if not self.f: \n",
    "                print(\"Please define function first!\")\n",
    "                self.f = input(\"Function name: \")\n",
    "                self.eq = parse_expr(input(\"Function: \"), evaluate=False)\n",
    "                self.unit = parse_expr(input(\"Unit: \"), evaluate=False)\n",
    "            for sym in self.eq.free_symbols:\n",
    "                self.values[str(sym)] = float(input(f\"{sym}: \"))\n",
    "                self.values[f\"\\\\Delta {sym}\"] = float(input(f\"Δ{sym}: \"))\n",
    "        if change == 'f':\n",
    "            self.f = input(\"Function name: \")\n",
    "            self.eq = parse_expr(input(\"Function: \"), evaluate=False)\n",
    "            self.unit = parse_expr(input(\"Unit: \"), evaluate=False)\n",
    "            if sorted(list(self.values.keys())) != sorted([str(x) for x in self.eq.free_symbols]):\n",
    "                print(\"Please redefine the parameters\")\n",
    "                for sym in self.eq.free_symbols:\n",
    "                    self.values[str(sym)] = float(input(f\"{sym}: \"))\n",
    "                    self.values[f\"\\\\Delta {sym}\"] = float(input(f\"Δ{sym}: \"))\n",
    "        display(Eq(Symbol(self.f), self.eq))\n",
    "\n",
    "        deltaf = 0\n",
    "        for sym in self.eq.free_symbols:\n",
    "            deltaf += abs(self.eq.diff(sym)) * Symbol(f'\\Delta {sym}')\n",
    "\n",
    "        deltaresult = lambdify(list(deltaf.free_symbols), deltaf, 'numpy')(*[self.values[str(x)] for x in deltaf.free_symbols])\n",
    "\n",
    "        result = lambdify(list(self.eq.free_symbols), self.eq, 'numpy')(*[self.values[str(x)] for x in self.eq.free_symbols])\n",
    "        rel = deltaresult/result*100\n",
    "        display(Eq(Symbol(f'\\Delta {self.f}'), deltaf))\n",
    "        print(wraplatex+latex(Eq(Symbol(f'\\Delta {self.f}'), deltaf))+wraplatex)\n",
    "        print()\n",
    "\n",
    "        display(Eq(Symbol(self.f), self.eq))\n",
    "        print(wraplatex+latex(Eq(Symbol(self.f), self.eq))+wraplatex)\n",
    "        print()\n",
    "\n",
    "        display(Eq(Symbol(f'\\Delta {self.f}'), deltaresult))\n",
    "        print(wraplatex+latex(Eq(Symbol(f'\\Delta {self.f}'), deltaresult)).replace(\".\",\"{,}\")+latex(self.unit)+wraplatex)\n",
    "        print()\n",
    "\n",
    "        display(Eq(Symbol(self.f), Symbol(f'({result} \\pm {deltaresult})')))\n",
    "        print(wraplatex+latex(Eq(Symbol(self.f), Symbol(f'({result} \\pm {deltaresult})'))).replace(\".\", \"{,}\")+latex(self.unit)+wraplatex)\n",
    "        print()\n",
    "\n",
    "        display(Eq(Symbol(f'\\Delta {self.f}')/Symbol(self.f), Symbol(f'{rel}\\%')))\n",
    "        print(wraplatex+latex(Eq(Symbol(f'\\Delta {self.f}')/Symbol(self.f), Symbol(f'{rel}\\%'))).replace(\".\", \"{,}\")+latex(self.unit)+wraplatex)\n",
    "        print()\n",
    "    \n",
    "parser = Parser()"
   ]
  },
  {
   "cell_type": "code",
   "execution_count": null,
   "id": "42a76bbc",
   "metadata": {},
   "outputs": [],
   "source": [
    "parser.eingeschissen()\n",
    "print()"
   ]
  },
  {
   "cell_type": "markdown",
   "id": "f4e7d53d",
   "metadata": {},
   "source": [
    "## Steigungsfehler einer linearen Funktion\n",
    "Es geschieht über lineare Regression der Fehlermaxima. Die Fehlergrenzgeraden liegen auf Flächen die von den Einzelfehlern von X und Y aufgespannt werden. Funktioniert nur wenn die Messwerte keine zu großen Messfehler aufweisen."
   ]
  },
  {
   "cell_type": "code",
   "execution_count": null,
   "id": "e228da42",
   "metadata": {},
   "outputs": [],
   "source": [
    "def steigungsfehler(X, Y, Dx, Dy, plot=True, a=0.75):\n",
    "    import numpy as np \n",
    "    X = np.array(X)\n",
    "    Y = np.array(Y)\n",
    "    n = len(X)\n",
    "    lowerX = np.array([X[i] + 2*Dx*(i/(n-1))-Dx for i in range(n)])\n",
    "    lowerY = np.array([Y[i] + 2*Dy*(i/(n-1))-Dy for i in range(n)])\n",
    "    upperX = np.array([X[i] + 2*Dx*(i/(n-1))-Dx for i in range(n)])\n",
    "    upperY = np.array([Y[i] - 2*Dy*(i/(n-1))+Dy for i in range(n)])\n",
    "\n",
    "    def linreg(x, y):\n",
    "        A = np.vstack([x, np.ones(len(x))]).T\n",
    "        m, c = np.linalg.lstsq(A, y, rcond=None)[0]\n",
    "        return m, c\n",
    "    m, c = linreg(X, Y)\n",
    "    LineX = np.array(X)\n",
    "    LineY = m*LineX+c\n",
    "    \n",
    "    lowM, lowC = linreg((a*lowerX+(1-a)*X), (a*lowerY+(1-a)*Y))\n",
    "    LineLowerX = np.array(lowerX)\n",
    "    LineLowerY = lowM*LineLowerX+lowC\n",
    "\n",
    "    upM, upC = linreg((a*upperX+(1-a)*X), (a*upperY+(1-a)*Y))\n",
    "    LineUpperX = np.array(upperX)\n",
    "    LineUpperY = upM*LineUpperX+upC\n",
    "\n",
    "    if plot:\n",
    "        plt.plot(LineX, LineY)\n",
    "        plt.plot(LineLowerX, LineLowerY)\n",
    "        plt.plot(LineUpperX, LineUpperY)\n",
    "\n",
    "        plt.scatter(X, Y, marker='x')\n",
    "        plt.scatter(lowerX, lowerY, marker='x')\n",
    "        plt.scatter(upperX, upperY, marker='x')\n",
    "\n",
    "        plt.show()\n",
    "    return abs(upM - lowM) / 2\n",
    "\n",
    "import matplotlib.pyplot as plt\n",
    "X =[float(x) for x in input(\"X: \").strip().split(' ')]\n",
    "Y = [float(x) for x in input(\"Y: \").strip().split(' ')]\n",
    "DX = float(input(\"ΔX: \"))\n",
    "DY = float(input(\"ΔY: \"))\n",
    "steigungsfehler(X, Y, DX, DY)"
   ]
  },
  {
   "cell_type": "code",
   "execution_count": null,
   "id": "694d23bb",
   "metadata": {},
   "outputs": [],
   "source": [
    "import numpy as np\n",
    "np.random.rand(10,3)"
   ]
  }
 ],
 "metadata": {
  "kernelspec": {
   "display_name": "Python 3 (ipykernel)",
   "language": "python",
   "name": "python3"
  },
  "language_info": {
   "codemirror_mode": {
    "name": "ipython",
    "version": 3
   },
   "file_extension": ".py",
   "mimetype": "text/x-python",
   "name": "python",
   "nbconvert_exporter": "python",
   "pygments_lexer": "ipython3",
   "version": "3.10.8"
  }
 },
 "nbformat": 4,
 "nbformat_minor": 5
}
