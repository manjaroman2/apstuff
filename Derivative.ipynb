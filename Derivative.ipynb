{
 "cells": [
  {
   "cell_type": "code",
   "execution_count": null,
   "id": "8de4d0d0",
   "metadata": {},
   "outputs": [],
   "source": [
    "!pip install sympy"
   ]
  },
  {
   "cell_type": "markdown",
   "id": "51d21f31",
   "metadata": {},
   "source": [
    "## Fehlerrechnung\n",
    "* automatische Ableitung der Funktion\n",
    "* Einsetzen der Werte\n",
    "* gibt Latex aus"
   ]
  },
  {
   "cell_type": "code",
   "execution_count": null,
   "id": "6f88a8d8",
   "metadata": {},
   "outputs": [],
   "source": [
    "from sympy import *\n",
    "from IPython.display import display\n",
    "init_printing()\n",
    "import numpy as np\n",
    "from sympy.parsing.sympy_parser import parse_expr\n",
    "\n",
    "def eingeschissen():\n",
    "    wraplatex = \"$$\"\n",
    "\n",
    "    f = input(\"Function name: \")\n",
    "    eq = parse_expr(input(\"Function: \"), evaluate=False)\n",
    "    display(Eq(Symbol(f), eq))\n",
    "    deltaf = 0\n",
    "    for sym in eq.free_symbols:\n",
    "        deltaf += abs(eq.diff(sym)) * Symbol(f'\\Delta {sym}')\n",
    "\n",
    "    values = {}\n",
    "    for sym in eq.free_symbols:\n",
    "        values[str(sym)] = float(input(f\"{sym}: \"))\n",
    "        values[f\"\\\\Delta {sym}\"] = float(input(f\"Δ{sym}: \"))\n",
    "\n",
    "    deltaresult = lambdify(list(deltaf.free_symbols), deltaf, 'numpy')(*[values[str(x)] for x in deltaf.free_symbols])\n",
    "\n",
    "    result = lambdify(list(eq.free_symbols), eq, 'numpy')(*[values[str(x)] for x in eq.free_symbols])\n",
    "    rel = deltaresult/result*100\n",
    "    display(Eq(Symbol(f'\\Delta {f}'), deltaf))\n",
    "    print(wraplatex+latex(Eq(Symbol(f'\\Delta {f}'), deltaf))+wraplatex)\n",
    "    print()\n",
    "\n",
    "    display(Eq(Symbol(f), eq))\n",
    "    print(wraplatex+latex(Eq(Symbol(f), eq))+wraplatex)\n",
    "    print()\n",
    "\n",
    "    display(Eq(Symbol(f'\\Delta {f}'), deltaresult))\n",
    "    print(wraplatex+latex(Eq(Symbol(f'\\Delta {f}'), deltaresult)).replace(\".\", \",\")+wraplatex)\n",
    "    print()\n",
    "\n",
    "    display(Eq(Symbol(f), Symbol(f'({result} \\pm {deltaresult})')))\n",
    "    print(wraplatex+latex(Eq(Symbol(f), Symbol(f'({result} \\pm {deltaresult})'))).replace(\".\", \",\")+wraplatex)\n",
    "    print()\n",
    "\n",
    "    display(Eq(Symbol(f'\\Delta {f}')/Symbol(f), Symbol(f'{rel}\\%')))\n",
    "    print(wraplatex+latex(Eq(Symbol(f'\\Delta {f}')/Symbol(f), Symbol(f'{rel}\\%'))).replace(\".\", \",\")+wraplatex)\n",
    "    print()"
   ]
  },
  {
   "cell_type": "code",
   "execution_count": null,
   "id": "9d1a6c6c",
   "metadata": {},
   "outputs": [],
   "source": [
    "eingeschissen()\n",
    "# m_w*(T_w-T_k)/(T_m-T_k)-m_k"
   ]
  },
  {
   "cell_type": "markdown",
   "id": "f4e7d53d",
   "metadata": {},
   "source": [
    "## Steigungsfehler einer linearen Funktion\n",
    "Es geschieht über lineare Regression der Fehlermaxima. Die Fehlergrenzgeraden liegen auf Flächen die von den Einzelfehlern von X und Y aufgespannt werden. Funktioniert nur wenn die Messwerte keine zu großen Messfehler aufweisen."
   ]
  },
  {
   "cell_type": "code",
   "execution_count": null,
   "id": "e228da42",
   "metadata": {},
   "outputs": [],
   "source": [
    "def steigungsfehler(X, Y, Dx, Dy, plot=True, a=0.75):\n",
    "    import numpy as np \n",
    "    X = np.array(X)\n",
    "    Y = np.array(Y)\n",
    "    n = len(X)\n",
    "    lowerX = np.array([X[i] + 2*Dx*(i/(n-1))-Dx for i in range(n)])\n",
    "    lowerY = np.array([Y[i] + 2*Dy*(i/(n-1))-Dy for i in range(n)])\n",
    "    upperX = np.array([X[i] + 2*Dx*(i/(n-1))-Dx for i in range(n)])\n",
    "    upperY = np.array([Y[i] - 2*Dy*(i/(n-1))+Dy for i in range(n)])\n",
    "\n",
    "    def linreg(x, y):\n",
    "        A = np.vstack([x, np.ones(len(x))]).T\n",
    "        m, c = np.linalg.lstsq(A, y, rcond=None)[0]\n",
    "        return m, c\n",
    "    m, c = linreg(X, Y)\n",
    "    LineX = np.array(X)\n",
    "    LineY = m*LineX+c\n",
    "    \n",
    "    lowM, lowC = linreg((a*lowerX+(1-a)*X), (a*lowerY+(1-a)*Y))\n",
    "    LineLowerX = np.array(lowerX)\n",
    "    LineLowerY = lowM*LineLowerX+lowC\n",
    "\n",
    "    upM, upC = linreg((a*upperX+(1-a)*X), (a*upperY+(1-a)*Y))\n",
    "    LineUpperX = np.array(upperX)\n",
    "    LineUpperY = upM*LineUpperX+upC\n",
    "\n",
    "    if plot:\n",
    "        plt.plot(LineX, LineY)\n",
    "        plt.plot(LineLowerX, LineLowerY)\n",
    "        plt.plot(LineUpperX, LineUpperY)\n",
    "\n",
    "        plt.scatter(X, Y, marker='x')\n",
    "        plt.scatter(lowerX, lowerY, marker='x')\n",
    "        plt.scatter(upperX, upperY, marker='x')\n",
    "\n",
    "        plt.show()\n",
    "    return abs(upM - lowM) / 2\n",
    "\n",
    "import matplotlib.pyplot as plt\n",
    "X =[float(x) for x in input(\"X: \").strip().split(' ')]\n",
    "Y = [float(x) for x in input(\"Y: \").strip().split(' ')]\n",
    "DX = float(input(\"ΔX: \"))\n",
    "DY = float(input(\"ΔY: \"))\n",
    "steigungsfehler(X, Y, DX, DY)"
   ]
  },
  {
   "cell_type": "code",
   "execution_count": null,
   "id": "694d23bb",
   "metadata": {},
   "outputs": [],
   "source": []
  }
 ],
 "metadata": {
  "kernelspec": {
   "display_name": "Python 3 (ipykernel)",
   "language": "python",
   "name": "python3"
  },
  "language_info": {
   "codemirror_mode": {
    "name": "ipython",
    "version": 3
   },
   "file_extension": ".py",
   "mimetype": "text/x-python",
   "name": "python",
   "nbconvert_exporter": "python",
   "pygments_lexer": "ipython3",
   "version": "3.10.8"
  }
 },
 "nbformat": 4,
 "nbformat_minor": 5
}
